{
 "cells": [
  {
   "cell_type": "markdown",
   "metadata": {},
   "source": [
    "### Python Refresher\n"
   ]
  },
  {
   "cell_type": "code",
   "execution_count": 1,
   "metadata": {},
   "outputs": [
    {
     "name": "stdout",
     "output_type": "stream",
     "text": [
      "Your age, 10, is equal to 120 months.\n"
     ]
    }
   ],
   "source": [
    "user_age = int(input(\"Enter your age: \"))\n",
    "months = user_age * 12\n",
    "print(f\"Your age, {user_age}, is equal to {months} months.\")"
   ]
  },
  {
   "cell_type": "markdown",
   "metadata": {},
   "source": [
    "Lists, Tuples, Sets"
   ]
  },
  {
   "cell_type": "code",
   "execution_count": 6,
   "metadata": {},
   "outputs": [
    {
     "name": "stdout",
     "output_type": "stream",
     "text": [
      "Bob Bob\n",
      "['Bob', 'Rolf', 'Anne', 'Smith']\n"
     ]
    }
   ],
   "source": [
    "l = [\"Bob\", \"Rolf\", \"Anne\"]\n",
    "t = (\"Bob\", \"Rolf\", \"Anne\")\n",
    "s = {\"Bob\", \"Rolf\", \"Anne\"}\n",
    "\n",
    "print(l[0], t[0])\n",
    "\n",
    "l.append(\"Smith\")\n",
    "print(l)"
   ]
  },
  {
   "cell_type": "code",
   "execution_count": 8,
   "metadata": {},
   "outputs": [
    {
     "name": "stdout",
     "output_type": "stream",
     "text": [
      "{'Rolf'}\n"
     ]
    }
   ],
   "source": [
    "friends = {\"Bob\", \"Rolf\", \"Anne\"}\n",
    "abroad = {\"Bob\", \"Anne\"}\n",
    "\n",
    "local_friends = friends.difference(abroad)\n",
    "print(local_friends)"
   ]
  },
  {
   "cell_type": "code",
   "execution_count": 9,
   "metadata": {},
   "outputs": [
    {
     "name": "stdout",
     "output_type": "stream",
     "text": [
      "{'Bob', 'Jen'}\n"
     ]
    }
   ],
   "source": [
    "art = {\"Bob\", \"Rolf\", \"Jen\", \"Charlie\"}\n",
    "science = {\"Bob\", \"Jen\", \"Anne\", \"Adam\"}\n",
    "\n",
    "both = art.intersection(science)\n",
    "print(both)"
   ]
  },
  {
   "cell_type": "markdown",
   "metadata": {},
   "source": [
    "Booleans"
   ]
  },
  {
   "cell_type": "code",
   "execution_count": 11,
   "metadata": {},
   "outputs": [
    {
     "name": "stdout",
     "output_type": "stream",
     "text": [
      "True\n",
      "False\n",
      "False\n"
     ]
    }
   ],
   "source": [
    "print(5 == 5)\n",
    "print(5 > 5)\n",
    "print(10 != 10)"
   ]
  },
  {
   "cell_type": "code",
   "execution_count": 12,
   "metadata": {},
   "outputs": [
    {
     "name": "stdout",
     "output_type": "stream",
     "text": [
      "False\n",
      "True\n"
     ]
    }
   ],
   "source": [
    "friends = [\"Bob\", \"Rolf\"]\n",
    "abroad = [\"Bob\", \"Rolf\"]\n",
    "\n",
    "print(friends is abroad)\n",
    "print(friends == abroad)"
   ]
  },
  {
   "cell_type": "code",
   "execution_count": 14,
   "metadata": {},
   "outputs": [
    {
     "name": "stdout",
     "output_type": "stream",
     "text": [
      "True\n",
      "True\n"
     ]
    }
   ],
   "source": [
    "day_of_week = input(\"What day of the week is it today? \")\n",
    "\n",
    "print(day_of_week == \"Monday\")\n",
    "\n",
    "if day_of_week == \"Monday\":\n",
    "    print(\"Have a great start to your week!\")"
   ]
  },
  {
   "cell_type": "code",
   "execution_count": 16,
   "metadata": {},
   "outputs": [
    {
     "name": "stdout",
     "output_type": "stream",
     "text": [
      "False\n"
     ]
    }
   ],
   "source": [
    "movies_watched = {\"The Matrix\", \"Green Book\", \"Her\"}\n",
    "user_movie = input(\"Enter something you've watched recently: \")\n",
    "\n",
    "print(user_movie in movies_watched)"
   ]
  },
  {
   "cell_type": "code",
   "execution_count": 20,
   "metadata": {},
   "outputs": [
    {
     "name": "stdout",
     "output_type": "stream",
     "text": [
      "[2, 6, 10]\n"
     ]
    }
   ],
   "source": [
    "numbers = [1, 3, 5]\n",
    "doubled = list(num*2 for num in numbers)\n",
    "\n",
    "print(doubled)"
   ]
  },
  {
   "cell_type": "code",
   "execution_count": 25,
   "metadata": {},
   "outputs": [
    {
     "name": "stdout",
     "output_type": "stream",
     "text": [
      "['Sam', 'Samantha', 'Saurabh', 'Sam', 'Samantha', 'Saurabh']\n"
     ]
    }
   ],
   "source": [
    "friends = [\"Rolf\", \"Sam\", \"Samantha\", \"Saurabh\", \"Jen\"]\n",
    "starts_s = list(friend for friend in friends if friend.startswith(\"S\"))\n",
    "# starts_s = list()\n",
    "\n",
    "# for friend in friends:\n",
    "#     if friend.startswith(\"S\"):\n",
    "#         starts_s.append(friend)\n",
    "\n",
    "print(starts_s)"
   ]
  },
  {
   "cell_type": "code",
   "execution_count": 27,
   "metadata": {},
   "outputs": [
    {
     "name": "stdout",
     "output_type": "stream",
     "text": [
      "{'Rolf': 24, 'Adam': 30, 'Anne': 27, 'Bob': 20}\n"
     ]
    }
   ],
   "source": [
    "friend_ages = {\"Rolf\": 24, \"Adam\": 30, \"Anne\": 27}\n",
    "\n",
    "friend_ages[\"Bob\"] = 20\n",
    "\n",
    "print(friend_ages)"
   ]
  },
  {
   "cell_type": "code",
   "execution_count": 31,
   "metadata": {},
   "outputs": [
    {
     "name": "stdout",
     "output_type": "stream",
     "text": [
      "Rolf\n"
     ]
    }
   ],
   "source": [
    "friends = [\n",
    "    {\"name\": \"Rolf\", \"age\": 24},\n",
    "    {\"name\": \"Adam\", \"age\": 30},\n",
    "    {\"name\": \"Anne\", \"age\": 27}\n",
    "]\n",
    "\n",
    "print(friends[0][\"name\"])"
   ]
  },
  {
   "cell_type": "code",
   "execution_count": null,
   "metadata": {},
   "outputs": [],
   "source": []
  }
 ],
 "metadata": {
  "kernelspec": {
   "display_name": "Python 3.9.2 64-bit",
   "language": "python",
   "name": "python3"
  },
  "language_info": {
   "codemirror_mode": {
    "name": "ipython",
    "version": 3
   },
   "file_extension": ".py",
   "mimetype": "text/x-python",
   "name": "python",
   "nbconvert_exporter": "python",
   "pygments_lexer": "ipython3",
   "version": "3.9.2"
  },
  "orig_nbformat": 4,
  "vscode": {
   "interpreter": {
    "hash": "f74eca7e5e28a2f42a1a11e6cace53a0de24eccc4ce76af1971a7925e59dfe67"
   }
  }
 },
 "nbformat": 4,
 "nbformat_minor": 2
}
