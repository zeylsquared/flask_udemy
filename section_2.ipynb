{
 "cells": [
  {
   "cell_type": "markdown",
   "metadata": {},
   "source": [
    "### Python Refresher\n"
   ]
  },
  {
   "cell_type": "code",
   "execution_count": 1,
   "metadata": {},
   "outputs": [
    {
     "name": "stdout",
     "output_type": "stream",
     "text": [
      "Your age, 10, is equal to 120 months.\n"
     ]
    }
   ],
   "source": [
    "user_age = int(input(\"Enter your age: \"))\n",
    "months = user_age * 12\n",
    "print(f\"Your age, {user_age}, is equal to {months} months.\")"
   ]
  },
  {
   "cell_type": "markdown",
   "metadata": {},
   "source": [
    "Lists, Tuples, Sets"
   ]
  },
  {
   "cell_type": "code",
   "execution_count": 6,
   "metadata": {},
   "outputs": [
    {
     "name": "stdout",
     "output_type": "stream",
     "text": [
      "Bob Bob\n",
      "['Bob', 'Rolf', 'Anne', 'Smith']\n"
     ]
    }
   ],
   "source": [
    "l = [\"Bob\", \"Rolf\", \"Anne\"]\n",
    "t = (\"Bob\", \"Rolf\", \"Anne\")\n",
    "s = {\"Bob\", \"Rolf\", \"Anne\"}\n",
    "\n",
    "print(l[0], t[0])\n",
    "\n",
    "l.append(\"Smith\")\n",
    "print(l)"
   ]
  },
  {
   "cell_type": "code",
   "execution_count": 8,
   "metadata": {},
   "outputs": [
    {
     "name": "stdout",
     "output_type": "stream",
     "text": [
      "{'Rolf'}\n"
     ]
    }
   ],
   "source": [
    "friends = {\"Bob\", \"Rolf\", \"Anne\"}\n",
    "abroad = {\"Bob\", \"Anne\"}\n",
    "\n",
    "local_friends = friends.difference(abroad)\n",
    "print(local_friends)"
   ]
  },
  {
   "cell_type": "code",
   "execution_count": 9,
   "metadata": {},
   "outputs": [
    {
     "name": "stdout",
     "output_type": "stream",
     "text": [
      "{'Bob', 'Jen'}\n"
     ]
    }
   ],
   "source": [
    "art = {\"Bob\", \"Rolf\", \"Jen\", \"Charlie\"}\n",
    "science = {\"Bob\", \"Jen\", \"Anne\", \"Adam\"}\n",
    "\n",
    "both = art.intersection(science)\n",
    "print(both)"
   ]
  },
  {
   "cell_type": "markdown",
   "metadata": {},
   "source": [
    "Booleans"
   ]
  },
  {
   "cell_type": "code",
   "execution_count": 11,
   "metadata": {},
   "outputs": [
    {
     "name": "stdout",
     "output_type": "stream",
     "text": [
      "True\n",
      "False\n",
      "False\n"
     ]
    }
   ],
   "source": [
    "print(5 == 5)\n",
    "print(5 > 5)\n",
    "print(10 != 10)"
   ]
  },
  {
   "cell_type": "code",
   "execution_count": 12,
   "metadata": {},
   "outputs": [
    {
     "name": "stdout",
     "output_type": "stream",
     "text": [
      "False\n",
      "True\n"
     ]
    }
   ],
   "source": [
    "friends = [\"Bob\", \"Rolf\"]\n",
    "abroad = [\"Bob\", \"Rolf\"]\n",
    "\n",
    "print(friends is abroad)\n",
    "print(friends == abroad)"
   ]
  },
  {
   "cell_type": "code",
   "execution_count": 14,
   "metadata": {},
   "outputs": [
    {
     "name": "stdout",
     "output_type": "stream",
     "text": [
      "True\n",
      "True\n"
     ]
    }
   ],
   "source": [
    "day_of_week = input(\"What day of the week is it today? \")\n",
    "\n",
    "print(day_of_week == \"Monday\")\n",
    "\n",
    "if day_of_week == \"Monday\":\n",
    "    print(\"Have a great start to your week!\")"
   ]
  },
  {
   "cell_type": "code",
   "execution_count": 16,
   "metadata": {},
   "outputs": [
    {
     "name": "stdout",
     "output_type": "stream",
     "text": [
      "False\n"
     ]
    }
   ],
   "source": [
    "movies_watched = {\"The Matrix\", \"Green Book\", \"Her\"}\n",
    "user_movie = input(\"Enter something you've watched recently: \")\n",
    "\n",
    "print(user_movie in movies_watched)"
   ]
  },
  {
   "cell_type": "code",
   "execution_count": 20,
   "metadata": {},
   "outputs": [
    {
     "name": "stdout",
     "output_type": "stream",
     "text": [
      "[2, 6, 10]\n"
     ]
    }
   ],
   "source": [
    "numbers = [1, 3, 5]\n",
    "doubled = list(num*2 for num in numbers)\n",
    "\n",
    "print(doubled)"
   ]
  },
  {
   "cell_type": "code",
   "execution_count": 25,
   "metadata": {},
   "outputs": [
    {
     "name": "stdout",
     "output_type": "stream",
     "text": [
      "['Sam', 'Samantha', 'Saurabh', 'Sam', 'Samantha', 'Saurabh']\n"
     ]
    }
   ],
   "source": [
    "friends = [\"Rolf\", \"Sam\", \"Samantha\", \"Saurabh\", \"Jen\"]\n",
    "starts_s = list(friend for friend in friends if friend.startswith(\"S\"))\n",
    "# starts_s = list()\n",
    "\n",
    "# for friend in friends:\n",
    "#     if friend.startswith(\"S\"):\n",
    "#         starts_s.append(friend)\n",
    "\n",
    "print(starts_s)"
   ]
  },
  {
   "cell_type": "code",
   "execution_count": 27,
   "metadata": {},
   "outputs": [
    {
     "name": "stdout",
     "output_type": "stream",
     "text": [
      "{'Rolf': 24, 'Adam': 30, 'Anne': 27, 'Bob': 20}\n"
     ]
    }
   ],
   "source": [
    "friend_ages = {\"Rolf\": 24, \"Adam\": 30, \"Anne\": 27}\n",
    "\n",
    "friend_ages[\"Bob\"] = 20\n",
    "\n",
    "print(friend_ages)"
   ]
  },
  {
   "cell_type": "code",
   "execution_count": 31,
   "metadata": {},
   "outputs": [
    {
     "name": "stdout",
     "output_type": "stream",
     "text": [
      "Rolf\n"
     ]
    }
   ],
   "source": [
    "friends = [\n",
    "    {\"name\": \"Rolf\", \"age\": 24},\n",
    "    {\"name\": \"Adam\", \"age\": 30},\n",
    "    {\"name\": \"Anne\", \"age\": 27}\n",
    "]\n",
    "\n",
    "print(friends[0][\"name\"])"
   ]
  },
  {
   "cell_type": "code",
   "execution_count": 33,
   "metadata": {},
   "outputs": [
    {
     "name": "stdout",
     "output_type": "stream",
     "text": [
      "Rolf: 96\n",
      "Bob: 80\n",
      "Anne: 100\n",
      "92.0\n"
     ]
    }
   ],
   "source": [
    "student_attendance = {\"Rolf\": 96, \"Bob\": 80, \"Anne\": 100}\n",
    "\n",
    "for student, attendance in student_attendance.items():\n",
    "    print(f\"{student}: {attendance}\")\n",
    "\n",
    "attendance_values = student_attendance.values()\n",
    "print(sum(attendance_values) / len(attendance_values))"
   ]
  },
  {
   "cell_type": "markdown",
   "metadata": {},
   "source": [
    "Destructuring variables"
   ]
  },
  {
   "cell_type": "code",
   "execution_count": 35,
   "metadata": {},
   "outputs": [
    {
     "name": "stdout",
     "output_type": "stream",
     "text": [
      "5 11\n"
     ]
    }
   ],
   "source": [
    "t = (5, 11)\n",
    "x, y = t\n",
    "print(x, y)"
   ]
  },
  {
   "cell_type": "code",
   "execution_count": 38,
   "metadata": {},
   "outputs": [
    {
     "name": "stdout",
     "output_type": "stream",
     "text": [
      "1\n",
      "[2, 3, 4, 5]\n"
     ]
    }
   ],
   "source": [
    "head, *tail = [1, 2, 3, 4, 5]\n",
    "print(head)\n",
    "print(tail)"
   ]
  },
  {
   "cell_type": "markdown",
   "metadata": {},
   "source": [
    "Functions in Python"
   ]
  },
  {
   "cell_type": "code",
   "execution_count": 43,
   "metadata": {},
   "outputs": [
    {
     "name": "stdout",
     "output_type": "stream",
     "text": [
      "hello\n"
     ]
    }
   ],
   "source": [
    "def hello():\n",
    "    print(\"hello\")\n",
    "\n",
    "hello()"
   ]
  },
  {
   "cell_type": "code",
   "execution_count": 45,
   "metadata": {},
   "outputs": [
    {
     "name": "stdout",
     "output_type": "stream",
     "text": [
      "Your age in seconds is 599184000\n"
     ]
    }
   ],
   "source": [
    "def user_age_in_seconds():\n",
    "    user_age = int(input(\"Enter your age: \"))\n",
    "    age_seconds = user_age * 365 * 24 * 60 * 60\n",
    "    print(f\"Your age in seconds is {age_seconds}\")\n",
    "\n",
    "user_age_in_seconds()"
   ]
  },
  {
   "cell_type": "code",
   "execution_count": 46,
   "metadata": {},
   "outputs": [
    {
     "name": "stdout",
     "output_type": "stream",
     "text": [
      "['Rolf', 'Bob', 'Jack']\n"
     ]
    }
   ],
   "source": [
    "friends = [\"Rolf\", \"Bob\"]\n",
    "\n",
    "def add_friend():\n",
    "    friend_name = input(\"Enter your friend name: \")\n",
    "    friends.append(friend_name)\n",
    "\n",
    "add_friend()\n",
    "\n",
    "print(friends)"
   ]
  },
  {
   "cell_type": "markdown",
   "metadata": {},
   "source": [
    "Function arguments and parameters"
   ]
  },
  {
   "cell_type": "code",
   "execution_count": 47,
   "metadata": {},
   "outputs": [
    {
     "name": "stdout",
     "output_type": "stream",
     "text": [
      "3\n"
     ]
    }
   ],
   "source": [
    "def add(x, y):\n",
    "    return x + y\n",
    "\n",
    "print(add(1, 2))"
   ]
  },
  {
   "cell_type": "code",
   "execution_count": 50,
   "metadata": {},
   "outputs": [
    {
     "name": "stdout",
     "output_type": "stream",
     "text": [
      "Hello Bob\n"
     ]
    }
   ],
   "source": [
    "def say_hello(name):\n",
    "    print(f\"Hello {name}\")\n",
    "\n",
    "say_hello(\"Bob\")"
   ]
  },
  {
   "cell_type": "markdown",
   "metadata": {},
   "source": [
    "Lambda functions"
   ]
  },
  {
   "cell_type": "code",
   "execution_count": 54,
   "metadata": {},
   "outputs": [
    {
     "name": "stdout",
     "output_type": "stream",
     "text": [
      "12\n"
     ]
    }
   ],
   "source": [
    "add = lambda x, y: x + y\n",
    "\n",
    "print(add(5, 7))"
   ]
  },
  {
   "cell_type": "code",
   "execution_count": 55,
   "metadata": {},
   "outputs": [
    {
     "data": {
      "text/plain": [
       "12"
      ]
     },
     "execution_count": 55,
     "metadata": {},
     "output_type": "execute_result"
    }
   ],
   "source": [
    "print((lambda x, y: x + y)(5, 7))"
   ]
  },
  {
   "cell_type": "code",
   "execution_count": 63,
   "metadata": {},
   "outputs": [
    {
     "name": "stdout",
     "output_type": "stream",
     "text": [
      "[2, 6, 10, 18]\n"
     ]
    }
   ],
   "source": [
    "def double(x):\n",
    "    return x*2\n",
    "\n",
    "sequence = [1, 3, 5, 9]\n",
    "\n",
    "# doubled = list((lambda x: x*2)(x) for x in sequence)\n",
    "doubled = list(map(double, sequence))\n",
    "\n",
    "print(doubled)"
   ]
  },
  {
   "cell_type": "markdown",
   "metadata": {},
   "source": [
    "Dictionary comprehension"
   ]
  },
  {
   "cell_type": "code",
   "execution_count": 67,
   "metadata": {},
   "outputs": [
    {
     "name": "stdout",
     "output_type": "stream",
     "text": [
      "Logged in\n"
     ]
    }
   ],
   "source": [
    "users = [\n",
    "    (0, \"Bob\", \"password\"),\n",
    "    (1, \"Rolf\", \"bob123\"),\n",
    "    (2, \"Jose\", \"longp4ssword\"),\n",
    "    (3, \"username\", \"1234\"),\n",
    "]\n",
    "\n",
    "username_mapping = {user[1]: user for user in users}\n",
    "\n",
    "username_input = input(\"Enter your username: \")\n",
    "password_input = input(\"Enter your password: \")\n",
    "\n",
    "_, username, password = username_mapping[username_input]\n",
    "\n",
    "if password_input == password:\n",
    "    print(\"Logged in\")\n",
    "else:\n",
    "    print(\"Password incorrect\")"
   ]
  },
  {
   "cell_type": "markdown",
   "metadata": {},
   "source": [
    "Unpacking arguments"
   ]
  },
  {
   "cell_type": "code",
   "execution_count": 70,
   "metadata": {},
   "outputs": [
    {
     "name": "stdout",
     "output_type": "stream",
     "text": [
      "(1, 3, 5)\n",
      "15\n"
     ]
    }
   ],
   "source": [
    "def multiply(*args):\n",
    "    print(args)\n",
    "    total = 1\n",
    "    for arg in args:\n",
    "        total *= arg\n",
    "    return total\n",
    "\n",
    "print(multiply(1, 3, 5))"
   ]
  },
  {
   "cell_type": "code",
   "execution_count": 71,
   "metadata": {},
   "outputs": [
    {
     "name": "stdout",
     "output_type": "stream",
     "text": [
      "8\n"
     ]
    }
   ],
   "source": [
    "def add(x, y):\n",
    "    return x + y\n",
    "\n",
    "nums = [3, 5]\n",
    "print(add(*nums))"
   ]
  },
  {
   "cell_type": "code",
   "execution_count": 73,
   "metadata": {},
   "outputs": [
    {
     "name": "stdout",
     "output_type": "stream",
     "text": [
      "25\n"
     ]
    }
   ],
   "source": [
    "def add(*args):\n",
    "    total = 0\n",
    "    for arg in args:\n",
    "        total += arg\n",
    "    return total\n",
    "\n",
    "nums = [3, 5, 7, 10]\n",
    "print(add(*nums))"
   ]
  },
  {
   "cell_type": "code",
   "execution_count": 74,
   "metadata": {},
   "outputs": [
    {
     "name": "stdout",
     "output_type": "stream",
     "text": [
      "40\n"
     ]
    }
   ],
   "source": [
    "def add(x, y):\n",
    "    return x + y\n",
    "\n",
    "nums = {\"x\": 15, \"y\": 25}\n",
    "print(add(**nums))"
   ]
  },
  {
   "cell_type": "code",
   "execution_count": 82,
   "metadata": {},
   "outputs": [
    {
     "name": "stdout",
     "output_type": "stream",
     "text": [
      "120\n"
     ]
    }
   ],
   "source": [
    "def multiply(*args):\n",
    "    total = 1\n",
    "    for arg in args:\n",
    "        total *= arg\n",
    "    return total\n",
    "\n",
    "def apply(*args, operator):\n",
    "    if operator == \"*\":\n",
    "        return multiply(*args)\n",
    "    elif operator == \"+\":\n",
    "        return sum(args)\n",
    "    else:\n",
    "        return \"No valid operator provided to apply().\"\n",
    "    \n",
    "print(apply(1, 2, 3, 4, 5, operator=\"*\"))"
   ]
  },
  {
   "cell_type": "code",
   "execution_count": null,
   "metadata": {},
   "outputs": [],
   "source": []
  }
 ],
 "metadata": {
  "kernelspec": {
   "display_name": "Python 3.9.2 64-bit",
   "language": "python",
   "name": "python3"
  },
  "language_info": {
   "codemirror_mode": {
    "name": "ipython",
    "version": 3
   },
   "file_extension": ".py",
   "mimetype": "text/x-python",
   "name": "python",
   "nbconvert_exporter": "python",
   "pygments_lexer": "ipython3",
   "version": "3.9.2"
  },
  "orig_nbformat": 4,
  "vscode": {
   "interpreter": {
    "hash": "f74eca7e5e28a2f42a1a11e6cace53a0de24eccc4ce76af1971a7925e59dfe67"
   }
  }
 },
 "nbformat": 4,
 "nbformat_minor": 2
}
