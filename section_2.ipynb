{
 "cells": [
  {
   "cell_type": "markdown",
   "metadata": {},
   "source": [
    "### Python Refresher\n"
   ]
  },
  {
   "cell_type": "code",
   "execution_count": 1,
   "metadata": {},
   "outputs": [
    {
     "name": "stdout",
     "output_type": "stream",
     "text": [
      "Your age, 10, is equal to 120 months.\n"
     ]
    }
   ],
   "source": [
    "user_age = int(input(\"Enter your age: \"))\n",
    "months = user_age * 12\n",
    "print(f\"Your age, {user_age}, is equal to {months} months.\")"
   ]
  },
  {
   "cell_type": "code",
   "execution_count": 5,
   "metadata": {},
   "outputs": [
    {
     "name": "stdout",
     "output_type": "stream",
     "text": [
      "Bob Bob\n"
     ]
    },
    {
     "ename": "AttributeError",
     "evalue": "'set' object has no attribute 'append'",
     "output_type": "error",
     "traceback": [
      "\u001b[1;31m---------------------------------------------------------------------------\u001b[0m",
      "\u001b[1;31mAttributeError\u001b[0m                            Traceback (most recent call last)",
      "\u001b[1;32mc:\\Users\\unesn\\Documents\\GitHub\\flask_udemy\\section_2.ipynb Cell 3\u001b[0m in \u001b[0;36m<cell line: 7>\u001b[1;34m()\u001b[0m\n\u001b[0;32m      <a href='vscode-notebook-cell:/c%3A/Users/unesn/Documents/GitHub/flask_udemy/section_2.ipynb#ch0000001?line=2'>3</a>\u001b[0m s \u001b[39m=\u001b[39m {\u001b[39m\"\u001b[39m\u001b[39mBob\u001b[39m\u001b[39m\"\u001b[39m, \u001b[39m\"\u001b[39m\u001b[39mRolf\u001b[39m\u001b[39m\"\u001b[39m, \u001b[39m\"\u001b[39m\u001b[39mAnne\u001b[39m\u001b[39m\"\u001b[39m}\n\u001b[0;32m      <a href='vscode-notebook-cell:/c%3A/Users/unesn/Documents/GitHub/flask_udemy/section_2.ipynb#ch0000001?line=4'>5</a>\u001b[0m \u001b[39mprint\u001b[39m(l[\u001b[39m0\u001b[39m], t[\u001b[39m0\u001b[39m])\n\u001b[1;32m----> <a href='vscode-notebook-cell:/c%3A/Users/unesn/Documents/GitHub/flask_udemy/section_2.ipynb#ch0000001?line=6'>7</a>\u001b[0m s\u001b[39m.\u001b[39;49mappend(\u001b[39m\"\u001b[39m\u001b[39mSmith\u001b[39m\u001b[39m\"\u001b[39m)\n\u001b[0;32m      <a href='vscode-notebook-cell:/c%3A/Users/unesn/Documents/GitHub/flask_udemy/section_2.ipynb#ch0000001?line=7'>8</a>\u001b[0m \u001b[39mprint\u001b[39m(s)\n",
      "\u001b[1;31mAttributeError\u001b[0m: 'set' object has no attribute 'append'"
     ]
    }
   ],
   "source": [
    "l = [\"Bob\", \"Rolf\", \"Anne\"]\n",
    "t = (\"Bob\", \"Rolf\", \"Anne\")\n",
    "s = {\"Bob\", \"Rolf\", \"Anne\"}\n",
    "\n",
    "print(l[0], t[0])\n",
    "\n",
    "l.append(\"Smith\")\n",
    "print(l)"
   ]
  },
  {
   "cell_type": "code",
   "execution_count": null,
   "metadata": {},
   "outputs": [],
   "source": []
  }
 ],
 "metadata": {
  "kernelspec": {
   "display_name": "Python 3.9.2 64-bit",
   "language": "python",
   "name": "python3"
  },
  "language_info": {
   "codemirror_mode": {
    "name": "ipython",
    "version": 3
   },
   "file_extension": ".py",
   "mimetype": "text/x-python",
   "name": "python",
   "nbconvert_exporter": "python",
   "pygments_lexer": "ipython3",
   "version": "3.9.2"
  },
  "orig_nbformat": 4,
  "vscode": {
   "interpreter": {
    "hash": "f74eca7e5e28a2f42a1a11e6cace53a0de24eccc4ce76af1971a7925e59dfe67"
   }
  }
 },
 "nbformat": 4,
 "nbformat_minor": 2
}
